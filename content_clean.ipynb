{
 "cells": [
  {
   "cell_type": "code",
   "execution_count": 1,
   "metadata": {},
   "outputs": [],
   "source": [
    "import pandas as pd\n",
    "import uuid"
   ]
  },
  {
   "cell_type": "code",
   "execution_count": 178,
   "metadata": {},
   "outputs": [],
   "source": [
    "# Reading the dataframes\n",
    "\n",
    "content=pd.read_csv(\"Content.csv\")\n",
    "content=content.drop(columns=['Unnamed: 0'])\n",
    "\n",
    "reaction=pd.read_csv(\"Reactions.csv\")\n",
    "reaction=reaction.drop(columns=['Unnamed: 0'])\n",
    "\n",
    "reaction_type=pd.read_csv(\"ReactionTypes.csv\")\n",
    "reaction_type=reaction_type.drop(columns=['Unnamed: 0'])\n"
   ]
  },
  {
   "cell_type": "code",
   "execution_count": 164,
   "metadata": {},
   "outputs": [],
   "source": [
    "#Removing rows that have values which are missing\n",
    "\n",
    "content=content.dropna()\n",
    "reaction=reaction.dropna()\n",
    "reaction_type=reaction_type.dropna()"
   ]
  },
  {
   "cell_type": "code",
   "execution_count": 62,
   "metadata": {},
   "outputs": [
    {
     "data": {
      "text/plain": [
       "Content ID    object\n",
       "User ID       object\n",
       "Type          object\n",
       "Category      object\n",
       "URL           object\n",
       "dtype: object"
      ]
     },
     "execution_count": 62,
     "metadata": {},
     "output_type": "execute_result"
    }
   ],
   "source": [
    "# changing the data type of some values within a column\n",
    "content.dtypes"
   ]
  },
  {
   "cell_type": "code",
   "execution_count": 63,
   "metadata": {},
   "outputs": [],
   "source": [
    "content['Content ID'] = content['Content ID'].apply(uuid.UUID)\n",
    "content['User ID'] = content['User ID'].apply(uuid.UUID)\n",
    "content['Type']=content['Type'].astype(str)\n",
    "content['Category']=content['Category'].astype(str)\n",
    "content['URL']=content['URL'].astype(str)"
   ]
  },
  {
   "cell_type": "code",
   "execution_count": 64,
   "metadata": {},
   "outputs": [
    {
     "name": "stdout",
     "output_type": "stream",
     "text": [
      "<class 'uuid.UUID'>\n",
      "<class 'uuid.UUID'>\n",
      "<class 'str'>\n",
      "<class 'str'>\n",
      "<class 'str'>\n"
     ]
    }
   ],
   "source": [
    "# Check individual column types\n",
    "print(type(content['Content ID'].iloc[0]))\n",
    "print(type(content['User ID'].iloc[0]))\n",
    "print(type(content['Type'].iloc[0]))\n",
    "print(type(content['Category'].iloc[0]))\n",
    "print(type(content['URL'].iloc[0]))"
   ]
  },
  {
   "cell_type": "code",
   "execution_count": 65,
   "metadata": {},
   "outputs": [
    {
     "data": {
      "text/plain": [
       "Content ID    object\n",
       "User ID       object\n",
       "Type          object\n",
       "Datetime      object\n",
       "dtype: object"
      ]
     },
     "execution_count": 65,
     "metadata": {},
     "output_type": "execute_result"
    }
   ],
   "source": [
    "reaction.dtypes"
   ]
  },
  {
   "cell_type": "code",
   "execution_count": 66,
   "metadata": {},
   "outputs": [],
   "source": [
    "reaction['Content ID'] = reaction['Content ID'].apply(uuid.UUID)\n",
    "reaction['User ID'] = reaction['User ID'].apply(uuid.UUID)\n",
    "reaction['Type']=reaction['Type'].astype(str)\n",
    "reaction['Datetime']=pd.to_datetime(reaction['Datetime'])"
   ]
  },
  {
   "cell_type": "code",
   "execution_count": 67,
   "metadata": {},
   "outputs": [
    {
     "name": "stdout",
     "output_type": "stream",
     "text": [
      "<class 'uuid.UUID'>\n",
      "<class 'uuid.UUID'>\n",
      "<class 'str'>\n",
      "<class 'pandas._libs.tslibs.timestamps.Timestamp'>\n"
     ]
    }
   ],
   "source": [
    "# Check individual column types\n",
    "print(type(reaction['Content ID'].iloc[0]))\n",
    "print(type(reaction['User ID'].iloc[0]))\n",
    "print(type(reaction['Type'].iloc[0]))\n",
    "print(type(reaction['Datetime'].iloc[0]))"
   ]
  },
  {
   "cell_type": "code",
   "execution_count": 68,
   "metadata": {},
   "outputs": [
    {
     "data": {
      "text/plain": [
       "Type         object\n",
       "Sentiment    object\n",
       "Score         int64\n",
       "dtype: object"
      ]
     },
     "execution_count": 68,
     "metadata": {},
     "output_type": "execute_result"
    }
   ],
   "source": [
    "reaction_type.dtypes"
   ]
  },
  {
   "cell_type": "code",
   "execution_count": 184,
   "metadata": {},
   "outputs": [],
   "source": [
    "content['Category'] = content['Category'].str.replace('\"', '', regex=False)"
   ]
  },
  {
   "cell_type": "code",
   "execution_count": 185,
   "metadata": {},
   "outputs": [],
   "source": [
    "reaction_type['Type']=reaction_type['Type'].astype(str)\n",
    "reaction_type['Sentiment']=reaction_type['Sentiment'].astype(str)"
   ]
  },
  {
   "cell_type": "code",
   "execution_count": 186,
   "metadata": {},
   "outputs": [
    {
     "name": "stdout",
     "output_type": "stream",
     "text": [
      "<class 'str'>\n",
      "<class 'str'>\n"
     ]
    }
   ],
   "source": [
    "print(type(reaction_type['Type'].iloc[0]))\n",
    "print(type(reaction_type['Sentiment'].iloc[0]))"
   ]
  },
  {
   "cell_type": "code",
   "execution_count": 187,
   "metadata": {},
   "outputs": [],
   "source": [
    "m1=pd.merge(reaction,reaction_type,on='Type',how='outer')\n",
    "m2=pd.merge(m1,content,on='Content ID',how='outer')\n",
    "m2=m2.drop(columns=['User ID_x','User ID_y','Datetime','Type_y','URL'])\n",
    "m2=m2.rename(columns={'Type_x':'Reaction Type'})\n",
    "m2=m2.dropna()\n",
    "data=m2.to_csv('clean_merge_data.csv',index=False)"
   ]
  },
  {
   "cell_type": "code",
   "execution_count": 197,
   "metadata": {},
   "outputs": [],
   "source": [
    "category_data=m2.groupby('Category')['Score'].sum().reset_index()\n",
    "Top_5_category=category_data.sort_values(by='Score',ascending=False)\n",
    "Top_5_category=Top_5_category.head()\n",
    "Top_5_category.to_csv('Top_5_categories.csv',index=False)"
   ]
  },
  {
   "cell_type": "code",
   "execution_count": 199,
   "metadata": {},
   "outputs": [
    {
     "data": {
      "text/html": [
       "<div>\n",
       "<style scoped>\n",
       "    .dataframe tbody tr th:only-of-type {\n",
       "        vertical-align: middle;\n",
       "    }\n",
       "\n",
       "    .dataframe tbody tr th {\n",
       "        vertical-align: top;\n",
       "    }\n",
       "\n",
       "    .dataframe thead th {\n",
       "        text-align: right;\n",
       "    }\n",
       "</style>\n",
       "<table border=\"1\" class=\"dataframe\">\n",
       "  <thead>\n",
       "    <tr style=\"text-align: right;\">\n",
       "      <th></th>\n",
       "      <th>Content ID</th>\n",
       "      <th>Reaction Type</th>\n",
       "      <th>Sentiment</th>\n",
       "      <th>Score</th>\n",
       "      <th>Category</th>\n",
       "    </tr>\n",
       "  </thead>\n",
       "  <tbody>\n",
       "    <tr>\n",
       "      <th>0</th>\n",
       "      <td>004e820e-49c3-4ba2-9d02-62db0065410c</td>\n",
       "      <td>heart</td>\n",
       "      <td>positive</td>\n",
       "      <td>60.0</td>\n",
       "      <td>tennis</td>\n",
       "    </tr>\n",
       "    <tr>\n",
       "      <th>2</th>\n",
       "      <td>00d0cdf9-5919-4102-bf84-ebde253c3cd2</td>\n",
       "      <td>adore</td>\n",
       "      <td>positive</td>\n",
       "      <td>72.0</td>\n",
       "      <td>healthy eating</td>\n",
       "    </tr>\n",
       "    <tr>\n",
       "      <th>3</th>\n",
       "      <td>00d0cdf9-5919-4102-bf84-ebde253c3cd2</td>\n",
       "      <td>adore</td>\n",
       "      <td>positive</td>\n",
       "      <td>72.0</td>\n",
       "      <td>healthy eating</td>\n",
       "    </tr>\n",
       "    <tr>\n",
       "      <th>4</th>\n",
       "      <td>00d0cdf9-5919-4102-bf84-ebde253c3cd2</td>\n",
       "      <td>adore</td>\n",
       "      <td>positive</td>\n",
       "      <td>72.0</td>\n",
       "      <td>healthy eating</td>\n",
       "    </tr>\n",
       "    <tr>\n",
       "      <th>5</th>\n",
       "      <td>00d0cdf9-5919-4102-bf84-ebde253c3cd2</td>\n",
       "      <td>adore</td>\n",
       "      <td>positive</td>\n",
       "      <td>72.0</td>\n",
       "      <td>healthy eating</td>\n",
       "    </tr>\n",
       "    <tr>\n",
       "      <th>...</th>\n",
       "      <td>...</td>\n",
       "      <td>...</td>\n",
       "      <td>...</td>\n",
       "      <td>...</td>\n",
       "      <td>...</td>\n",
       "    </tr>\n",
       "    <tr>\n",
       "      <th>25567</th>\n",
       "      <td>ff883828-a610-492d-8635-8a777eaad25f</td>\n",
       "      <td>want</td>\n",
       "      <td>positive</td>\n",
       "      <td>70.0</td>\n",
       "      <td>education</td>\n",
       "    </tr>\n",
       "    <tr>\n",
       "      <th>25568</th>\n",
       "      <td>ff883828-a610-492d-8635-8a777eaad25f</td>\n",
       "      <td>worried</td>\n",
       "      <td>negative</td>\n",
       "      <td>12.0</td>\n",
       "      <td>education</td>\n",
       "    </tr>\n",
       "    <tr>\n",
       "      <th>25569</th>\n",
       "      <td>ff883828-a610-492d-8635-8a777eaad25f</td>\n",
       "      <td>worried</td>\n",
       "      <td>negative</td>\n",
       "      <td>12.0</td>\n",
       "      <td>education</td>\n",
       "    </tr>\n",
       "    <tr>\n",
       "      <th>25570</th>\n",
       "      <td>ff883828-a610-492d-8635-8a777eaad25f</td>\n",
       "      <td>worried</td>\n",
       "      <td>negative</td>\n",
       "      <td>12.0</td>\n",
       "      <td>education</td>\n",
       "    </tr>\n",
       "    <tr>\n",
       "      <th>25571</th>\n",
       "      <td>ff883828-a610-492d-8635-8a777eaad25f</td>\n",
       "      <td>worried</td>\n",
       "      <td>negative</td>\n",
       "      <td>12.0</td>\n",
       "      <td>education</td>\n",
       "    </tr>\n",
       "  </tbody>\n",
       "</table>\n",
       "<p>24573 rows × 5 columns</p>\n",
       "</div>"
      ],
      "text/plain": [
       "                                 Content ID Reaction Type Sentiment  Score  \\\n",
       "0      004e820e-49c3-4ba2-9d02-62db0065410c         heart  positive   60.0   \n",
       "2      00d0cdf9-5919-4102-bf84-ebde253c3cd2         adore  positive   72.0   \n",
       "3      00d0cdf9-5919-4102-bf84-ebde253c3cd2         adore  positive   72.0   \n",
       "4      00d0cdf9-5919-4102-bf84-ebde253c3cd2         adore  positive   72.0   \n",
       "5      00d0cdf9-5919-4102-bf84-ebde253c3cd2         adore  positive   72.0   \n",
       "...                                     ...           ...       ...    ...   \n",
       "25567  ff883828-a610-492d-8635-8a777eaad25f          want  positive   70.0   \n",
       "25568  ff883828-a610-492d-8635-8a777eaad25f       worried  negative   12.0   \n",
       "25569  ff883828-a610-492d-8635-8a777eaad25f       worried  negative   12.0   \n",
       "25570  ff883828-a610-492d-8635-8a777eaad25f       worried  negative   12.0   \n",
       "25571  ff883828-a610-492d-8635-8a777eaad25f       worried  negative   12.0   \n",
       "\n",
       "             Category  \n",
       "0              tennis  \n",
       "2      healthy eating  \n",
       "3      healthy eating  \n",
       "4      healthy eating  \n",
       "5      healthy eating  \n",
       "...               ...  \n",
       "25567       education  \n",
       "25568       education  \n",
       "25569       education  \n",
       "25570       education  \n",
       "25571       education  \n",
       "\n",
       "[24573 rows x 5 columns]"
      ]
     },
     "execution_count": 199,
     "metadata": {},
     "output_type": "execute_result"
    }
   ],
   "source": [
    "m2"
   ]
  },
  {
   "cell_type": "code",
   "execution_count": null,
   "metadata": {},
   "outputs": [],
   "source": []
  },
  {
   "cell_type": "code",
   "execution_count": null,
   "metadata": {},
   "outputs": [],
   "source": []
  },
  {
   "cell_type": "code",
   "execution_count": null,
   "metadata": {},
   "outputs": [],
   "source": []
  },
  {
   "cell_type": "code",
   "execution_count": null,
   "metadata": {},
   "outputs": [],
   "source": []
  },
  {
   "cell_type": "code",
   "execution_count": null,
   "metadata": {},
   "outputs": [],
   "source": []
  }
 ],
 "metadata": {
  "kernelspec": {
   "display_name": "dev",
   "language": "python",
   "name": "python3"
  },
  "language_info": {
   "codemirror_mode": {
    "name": "ipython",
    "version": 3
   },
   "file_extension": ".py",
   "mimetype": "text/x-python",
   "name": "python",
   "nbconvert_exporter": "python",
   "pygments_lexer": "ipython3",
   "version": "3.10.13"
  }
 },
 "nbformat": 4,
 "nbformat_minor": 2
}
